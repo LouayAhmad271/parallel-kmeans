{
 "cells": [
  {
   "cell_type": "code",
   "execution_count": 7,
   "metadata": {},
   "outputs": [],
   "source": [
    "import numpy as np\n",
    "import time\n",
    "from sklearn.datasets import make_blobs\n",
    "import concurrent.futures\n",
    "import os"
   ]
  },
  {
   "cell_type": "code",
   "execution_count": 8,
   "metadata": {},
   "outputs": [],
   "source": [
    "# Set n_jobs to the number of available CPU cores\n",
    "n_jobs = os.cpu_count()"
   ]
  },
  {
   "cell_type": "code",
   "execution_count": 9,
   "metadata": {},
   "outputs": [],
   "source": [
    "# Non-parallel K-means implementation\n",
    "def kmeans_non_parallel(X, k, max_iter=300):\n",
    "    # Random initialization of centroids\n",
    "    centroids = X[np.random.choice(X.shape[0], k, replace=False)]\n",
    "    for _ in range(max_iter):\n",
    "        # Assignment step\n",
    "        distances = np.linalg.norm(X[:, np.newaxis] - centroids, axis=2)\n",
    "        labels = np.argmin(distances, axis=1)\n",
    "        \n",
    "        # Update step\n",
    "        for i in range(k):\n",
    "            centroids[i] = X[labels == i].mean(axis=0)\n",
    "    return centroids, labels\n"
   ]
  },
  {
   "cell_type": "code",
   "execution_count": 10,
   "metadata": {},
   "outputs": [],
   "source": [
    "# Parallel assignment function with concurrent.futures\n",
    "def parallel_assignment_future(X_chunk, centroids):\n",
    "    distances = np.linalg.norm(X_chunk[:, np.newaxis] - centroids, axis=2)\n",
    "    return np.argmin(distances, axis=1)\n",
    "\n",
    "# Parallel k-means using concurrent.futures\n",
    "def kmeans_parallel_optimized(X, k, max_iter=300, n_jobs=None):\n",
    "    centroids = X[np.random.choice(X.shape[0], k, replace=False)]\n",
    "    for _ in range(max_iter):\n",
    "        # Split X into chunks for parallel processing\n",
    "        chunk_size = X.shape[0] // 8  # Using 8 chunks to balance the load\n",
    "        chunks = [X[i:i + chunk_size] for i in range(0, X.shape[0], chunk_size)]\n",
    "\n",
    "        # Use concurrent.futures for parallel assignment\n",
    "        with concurrent.futures.ThreadPoolExecutor(max_workers=n_jobs) as executor:\n",
    "            results = list(executor.map(lambda chunk: parallel_assignment_future(chunk, centroids), chunks))\n",
    "        \n",
    "        # Combine the results\n",
    "        labels = np.concatenate(results)\n",
    "        \n",
    "        # Update centroids\n",
    "        for i in range(k):\n",
    "            centroids[i] = X[labels == i].mean(axis=0)\n",
    "    \n",
    "    return centroids, labels\n",
    "\n"
   ]
  },
  {
   "cell_type": "code",
   "execution_count": 11,
   "metadata": {},
   "outputs": [
    {
     "name": "stdout",
     "output_type": "stream",
     "text": [
      "Generated dataset with shape: (70000, 10)\n"
     ]
    },
    {
     "name": "stderr",
     "output_type": "stream",
     "text": [
      "C:\\Users\\louay\\AppData\\Local\\Temp\\ipykernel_7232\\4246108620.py:12: RuntimeWarning: Mean of empty slice.\n",
      "  centroids[i] = X[labels == i].mean(axis=0)\n",
      "c:\\Users\\louay\\AppData\\Local\\Programs\\Python\\Python311\\Lib\\site-packages\\numpy\\core\\_methods.py:121: RuntimeWarning: invalid value encountered in divide\n",
      "  ret = um.true_divide(\n"
     ]
    },
    {
     "name": "stdout",
     "output_type": "stream",
     "text": [
      "Non-parallel K-means (Gaussian) took 7.44 seconds\n",
      "Parallel K-means (Gaussian) took 5.38 seconds\n",
      "Generated random dataset with shape: (70000, 100)\n",
      "Non-parallel K-means (Gaussian) took 129.47 seconds\n",
      "Parallel K-means (Gaussian) took 41.95 seconds\n"
     ]
    }
   ],
   "source": [
    "# Generate synthetic data for benchmarking\n",
    "def generate_synthetic_data(n_samples=70000, n_features=10, n_clusters=3):\n",
    "    X, _ = make_blobs(n_samples=n_samples, n_features=n_features, centers=n_clusters, cluster_std=1.0, random_state=42)\n",
    "    return X\n",
    "\n",
    "# Now set n_jobs to an appropriate value\n",
    "def benchmark_kmeans(X, n_clusters, n_jobs=None):\n",
    "    # Benchmark for Gaussian Dataset\n",
    "    start = time.time()\n",
    "    centroids, labels = kmeans_non_parallel(X, n_clusters)  # non-parallel version\n",
    "    end = time.time()\n",
    "    print(f\"Non-parallel K-means (Gaussian) took {end - start:.2f} seconds\")\n",
    "\n",
    "    start = time.time()\n",
    "    centroids, labels = kmeans_parallel_optimized(X, n_clusters, n_jobs=n_jobs)  # parallel version\n",
    "    end = time.time()\n",
    "    print(f\"Parallel K-means (Gaussian) took {end - start:.2f} seconds\")\n",
    "\n",
    "\n",
    "# Generate a synthetic dataset with 70,000 samples, 10 features, and 3 clusters\n",
    "X = generate_synthetic_data(n_samples=70000, n_features=10, n_clusters=3)\n",
    "print(f\"Generated dataset with shape: {X.shape}\")\n",
    "\n",
    "benchmark_kmeans(X, n_clusters=3, n_jobs=n_jobs)\n",
    "\n",
    "# Generate a synthetic random dataset with higher dimensions for benchmarking\n",
    "X_random = np.random.randn(70000, 100)\n",
    "print(f\"Generated random dataset with shape: {X_random.shape}\")\n",
    "\n",
    "benchmark_kmeans(X_random, n_clusters=5, n_jobs=n_jobs)\n"
   ]
  }
 ],
 "metadata": {
  "kernelspec": {
   "display_name": "Python 3",
   "language": "python",
   "name": "python3"
  },
  "language_info": {
   "codemirror_mode": {
    "name": "ipython",
    "version": 3
   },
   "file_extension": ".py",
   "mimetype": "text/x-python",
   "name": "python",
   "nbconvert_exporter": "python",
   "pygments_lexer": "ipython3",
   "version": "3.11.5"
  }
 },
 "nbformat": 4,
 "nbformat_minor": 2
}
